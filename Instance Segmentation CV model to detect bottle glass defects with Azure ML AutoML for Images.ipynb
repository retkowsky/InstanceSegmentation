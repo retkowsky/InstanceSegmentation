{
 "cells": [
  {
   "cell_type": "markdown",
   "metadata": {},
   "source": [
    "# Instance Segmentation CV model to detect bottle glass defects with Azure ML AutoML for Images"
   ]
  },
  {
   "cell_type": "markdown",
   "metadata": {},
   "source": [
    "We will use build and train an Instance Segmentation Custom Vision model using AutoML for Images in order to detect any defects from glass materials."
   ]
  },
  {
   "cell_type": "markdown",
   "metadata": {},
   "source": [
    "<img src=\"https://raw.githubusercontent.com/retkowsky/InstanceSegmentation/main/captures/example.jpg?\">"
   ]
  },
  {
   "cell_type": "markdown",
   "metadata": {},
   "source": [
    "> Important: This feature is currently in public preview. This preview version is provided without a service-level agreement. Certain features might not be supported or might have constrained capabilities. For more information, see Supplemental Terms of Use for Microsoft Azure Previews."
   ]
  },
  {
   "cell_type": "markdown",
   "metadata": {},
   "source": [
    "Images are available here: https://github.com/retkowsky/InstanceSegmentation/tree/main/images<br>Then you need to label them using for example Azure ML Data Labelling"
   ]
  },
  {
   "cell_type": "code",
   "execution_count": 1,
   "metadata": {},
   "outputs": [],
   "source": [
    "import datetime\n",
    "import pandas as pd\n",
    "import json\n",
    "import numpy as np\n",
    "import matplotlib.pyplot as plt\n",
    "import matplotlib.image as mpimg\n",
    "import matplotlib.patches as patches\n",
    "from matplotlib.lines import Line2D\n",
    "from PIL import Image\n",
    "import requests\n",
    "import uuid\n",
    "import azureml.core\n",
    "from IPython.display import display_javascript, display_html, display\n",
    "from azureml.core import Workspace, Datastore, Dataset"
   ]
  },
  {
   "cell_type": "code",
   "execution_count": 2,
   "metadata": {},
   "outputs": [
    {
     "name": "stdout",
     "output_type": "stream",
     "text": [
      "This notebook was made with Python: 3.6.6 |Anaconda, Inc.| (default, Oct  9 2018, 12:34:16) \n",
      "[GCC 7.3.0]\n"
     ]
    }
   ],
   "source": [
    "import sys\n",
    "print(\"This notebook was made with Python:\", sys.version)"
   ]
  },
  {
   "cell_type": "code",
   "execution_count": 3,
   "metadata": {},
   "outputs": [
    {
     "name": "stdout",
     "output_type": "stream",
     "text": [
      "Today: 2022-01-04 09:37:39.432778\n"
     ]
    }
   ],
   "source": [
    "now = datetime.datetime.now()\n",
    "print(\"Today:\", now)"
   ]
  },
  {
   "cell_type": "markdown",
   "metadata": {},
   "source": [
    "## 1. Workspace setup\n",
    "In order to train and deploy models in Azure ML, you will first need to set up a workspace.\n",
    "\n",
    "An [Azure ML Workspace](https://docs.microsoft.com/en-us/azure/machine-learning/concept-azure-machine-learning-architecture#workspace) is an Azure resource that organizes and coordinates the actions of many other Azure resources to assist in executing and sharing machine learning workflows. In particular, an Azure ML Workspace coordinates storage, databases, and compute resources providing added functionality for machine learning experimentation, deployment, inference, and the monitoring of deployed models.\n",
    "\n",
    "Create an Azure ML Workspace within your Azure subscription or load an existing workspace."
   ]
  },
  {
   "cell_type": "markdown",
   "metadata": {},
   "source": [
    "## AutoML for Images environment setup\n",
    "Please follow the [\"Setup a new conda environment\"](https://github.com/Azure/azureml-examples/tree/main/python-sdk/tutorials/automl-with-azureml#3-setup-a-new-conda-environment) instructions to get started."
   ]
  },
  {
   "cell_type": "code",
   "execution_count": 4,
   "metadata": {},
   "outputs": [
    {
     "name": "stdout",
     "output_type": "stream",
     "text": [
      "Azure ML version: 1.35.0\n"
     ]
    }
   ],
   "source": [
    "#Version\n",
    "import azureml.core\n",
    "print(\"Azure ML version:\", azureml.core.VERSION)"
   ]
  },
  {
   "cell_type": "code",
   "execution_count": 5,
   "metadata": {},
   "outputs": [
    {
     "name": "stdout",
     "output_type": "stream",
     "text": [
      "You are using Azure ML workspace: azuremlvision\n"
     ]
    }
   ],
   "source": [
    "from azureml.core.workspace import Workspace\n",
    "ws = Workspace.from_config()\n",
    "print(\"You are using Azure ML workspace:\", ws.name)"
   ]
  },
  {
   "cell_type": "markdown",
   "metadata": {},
   "source": [
    "## 2. Azure ML GPU Compute target setup\n",
    "You will need to provide a [Compute Target](https://docs.microsoft.com/en-us/azure/machine-learning/concept-azure-machine-learning-architecture#computes) that will be used for your AutoML model training. AutoML models for image tasks require [GPU SKUs](https://docs.microsoft.com/en-us/azure/virtual-machines/sizes-gpu) such as the ones from the NC, NCv2, NCv3, ND, NDv2 and NCasT4 series. We recommend using the NCsv3-series (with v100 GPUs) for faster training. Using a compute target with a multi-GPU VM SKU will leverage the multiple GPUs to speed up training. Additionally, setting up a compute target with multiple nodes will allow for faster model training by leveraging parallelism, when tuning hyperparameters for your model."
   ]
  },
  {
   "cell_type": "code",
   "execution_count": 6,
   "metadata": {},
   "outputs": [
    {
     "name": "stdout",
     "output_type": "stream",
     "text": [
      "2022-01-04 09:37:53.110922 Creating a new compute target...\n",
      "InProgress.....\n",
      "SucceededProvisioning operation finished, operation \"Succeeded\"\n",
      "Succeeded\n",
      "AmlCompute wait for completion finished\n",
      "\n",
      "Minimum number of nodes requested have been provisioned\n",
      "\n",
      "2022-01-04 09:38:20.786558 Time: 0:00:27.675636\n"
     ]
    }
   ],
   "source": [
    "from azureml.core.compute import AmlCompute, ComputeTarget\n",
    "\n",
    "cluster_name = \"AutoMLGPU\"\n",
    "\n",
    "t1 = datetime.datetime.now()\n",
    "\n",
    "try:\n",
    "    compute_target = ws.compute_targets[cluster_name]\n",
    "    print(t1, \"Found existing compute target.\")\n",
    "\n",
    "except KeyError:\n",
    "    print(t1, \"Creating a new compute target...\")\n",
    "    compute_config = AmlCompute.provisioning_configuration(\n",
    "        vm_size=\"Standard_NC6\",\n",
    "        idle_seconds_before_scaledown=1800,\n",
    "        min_nodes=0,\n",
    "        max_nodes=4,\n",
    "    )\n",
    "    compute_target = ComputeTarget.create(ws, cluster_name, compute_config)\n",
    "\n",
    "compute_target.wait_for_completion(\n",
    "    show_output=True, min_node_count=None, timeout_in_minutes=20\n",
    ")\n",
    "\n",
    "t2 = datetime.datetime.now()\n",
    "print()\n",
    "print(t2, \"Time:\", t2 - t1)"
   ]
  },
  {
   "cell_type": "code",
   "execution_count": 7,
   "metadata": {},
   "outputs": [
    {
     "name": "stdout",
     "output_type": "stream",
     "text": [
      "Azure ML GPU Compute Cluster is available: AutoMLGPU\n"
     ]
    }
   ],
   "source": [
    "print(\"Azure ML GPU Compute Cluster is available:\", compute_target.name)"
   ]
  },
  {
   "cell_type": "markdown",
   "metadata": {},
   "source": [
    "## 3. Azure ML Experiment Setup\n",
    "Create an [Experiment](https://docs.microsoft.com/en-us/azure/machine-learning/concept-azure-machine-learning-architecture#experiments) in your workspace to track your model training runs"
   ]
  },
  {
   "cell_type": "code",
   "execution_count": 8,
   "metadata": {},
   "outputs": [],
   "source": [
    "from azureml.core import Experiment\n",
    "experiment_name = \"AutoML-InstanceSegmentation-GlassDefect\"\n",
    "experiment = Experiment(ws, name=experiment_name)"
   ]
  },
  {
   "cell_type": "code",
   "execution_count": 9,
   "metadata": {},
   "outputs": [
    {
     "name": "stdout",
     "output_type": "stream",
     "text": [
      "Results will be available in this Azure ML experiment: AutoML-InstanceSegmentation-GlassDefect\n"
     ]
    },
    {
     "data": {
      "text/html": [
       "<table style=\"width:100%\"><tr><th>Name</th><th>Workspace</th><th>Report Page</th><th>Docs Page</th></tr><tr><td>AutoML-InstanceSegmentation-GlassDefect</td><td>azuremlvision</td><td><a href=\"https://ml.azure.com/experiments/id/db7e52ec-aacd-4eb3-a5e1-07a02b1f1e8e?wsid=/subscriptions/70b8f39e-8863-49f7-b6ba-34a80799550c/resourcegroups/azuremlvision-rg/workspaces/azuremlvision&amp;tid=72f988bf-86f1-41af-91ab-2d7cd011db47\" target=\"_blank\" rel=\"noopener\">Link to Azure Machine Learning studio</a></td><td><a href=\"https://docs.microsoft.com/en-us/python/api/azureml-core/azureml.core.experiment.Experiment?view=azure-ml-py\" target=\"_blank\" rel=\"noopener\">Link to Documentation</a></td></tr></table>"
      ],
      "text/plain": [
       "Experiment(Name: AutoML-InstanceSegmentation-GlassDefect,\n",
       "Workspace: azuremlvision)"
      ]
     },
     "execution_count": 9,
     "metadata": {},
     "output_type": "execute_result"
    }
   ],
   "source": [
    "print(\"Results will be available in this Azure ML experiment:\", experiment_name)\n",
    "experiment"
   ]
  },
  {
   "cell_type": "markdown",
   "metadata": {},
   "source": [
    "## 4. Dataset with input Training Data\n",
    "\n",
    "In order to generate models for computer vision, you will need to bring in labeled image data as input for model training in the form of an [AzureML Tabular Dataset](https://docs.microsoft.com/en-us/python/api/azureml-core/azureml.data.tabulardataset). You can either use a dataset that you have exported from a [Data Labeling](https://docs.microsoft.com/en-us/azure/machine-learning/how-to-label-data) project, or create a new Tabular Dataset with your labeled training data."
   ]
  },
  {
   "cell_type": "markdown",
   "metadata": {},
   "source": [
    "We have defined the segmentation regions we want to detect using Azure ML data labelling."
   ]
  },
  {
   "cell_type": "markdown",
   "metadata": {},
   "source": [
    "<img src=\"https://github.com/retkowsky/InstanceSegmentation/blob/main/captures/datalabelling.jpg?raw=true\">"
   ]
  },
  {
   "cell_type": "code",
   "execution_count": 10,
   "metadata": {},
   "outputs": [],
   "source": [
    "from azureml.core import Workspace, Dataset\n",
    "import azureml.contrib.dataset\n",
    "\n",
    "fulldataset = Dataset.get_by_name(ws, name='glassdefect_20211220_122800') # Name of your labelled dataset\n",
    "df = fulldataset.to_pandas_dataframe() # Convert it to a pandas dataframe"
   ]
  },
  {
   "cell_type": "code",
   "execution_count": 11,
   "metadata": {},
   "outputs": [
    {
     "data": {
      "text/plain": [
       "(50, 3)"
      ]
     },
     "execution_count": 11,
     "metadata": {},
     "output_type": "execute_result"
    }
   ],
   "source": [
    "df.shape"
   ]
  },
  {
   "cell_type": "code",
   "execution_count": 12,
   "metadata": {},
   "outputs": [
    {
     "data": {
      "text/html": [
       "<div>\n",
       "<style scoped>\n",
       "    .dataframe tbody tr th:only-of-type {\n",
       "        vertical-align: middle;\n",
       "    }\n",
       "\n",
       "    .dataframe tbody tr th {\n",
       "        vertical-align: top;\n",
       "    }\n",
       "\n",
       "    .dataframe thead th {\n",
       "        text-align: right;\n",
       "    }\n",
       "</style>\n",
       "<table border=\"1\" class=\"dataframe\">\n",
       "  <thead>\n",
       "    <tr style=\"text-align: right;\">\n",
       "      <th></th>\n",
       "      <th>image_url</th>\n",
       "      <th>label</th>\n",
       "      <th>label_confidence</th>\n",
       "    </tr>\n",
       "  </thead>\n",
       "  <tbody>\n",
       "    <tr>\n",
       "      <th>0</th>\n",
       "      <td>StreamInfo(AmlDatastore://defect (17).png[{'su...</td>\n",
       "      <td>[{'label': 'defect', 'isCrowd': False, 'polygo...</td>\n",
       "      <td>[1.0, 1.0]</td>\n",
       "    </tr>\n",
       "    <tr>\n",
       "      <th>1</th>\n",
       "      <td>StreamInfo(AmlDatastore://defect (10).png[{'su...</td>\n",
       "      <td>[{'label': 'defect', 'isCrowd': False, 'polygo...</td>\n",
       "      <td>[1.0, 1.0]</td>\n",
       "    </tr>\n",
       "    <tr>\n",
       "      <th>2</th>\n",
       "      <td>StreamInfo(AmlDatastore://defect (4).png[{'sub...</td>\n",
       "      <td>[{'label': 'defect', 'isCrowd': False, 'polygo...</td>\n",
       "      <td>[1.0]</td>\n",
       "    </tr>\n",
       "    <tr>\n",
       "      <th>3</th>\n",
       "      <td>StreamInfo(AmlDatastore://defect (28).png[{'su...</td>\n",
       "      <td>[{'label': 'defect', 'isCrowd': False, 'polygo...</td>\n",
       "      <td>[1.0]</td>\n",
       "    </tr>\n",
       "    <tr>\n",
       "      <th>4</th>\n",
       "      <td>StreamInfo(AmlDatastore://defect (11).png[{'su...</td>\n",
       "      <td>[{'label': 'defect', 'isCrowd': False, 'polygo...</td>\n",
       "      <td>[1.0]</td>\n",
       "    </tr>\n",
       "    <tr>\n",
       "      <th>5</th>\n",
       "      <td>StreamInfo(AmlDatastore://defect (36).png[{'su...</td>\n",
       "      <td>[{'label': 'defect', 'isCrowd': False, 'polygo...</td>\n",
       "      <td>[1.0]</td>\n",
       "    </tr>\n",
       "    <tr>\n",
       "      <th>6</th>\n",
       "      <td>StreamInfo(AmlDatastore://defect (37).png[{'su...</td>\n",
       "      <td>[{'label': 'defect', 'isCrowd': False, 'polygo...</td>\n",
       "      <td>[1.0]</td>\n",
       "    </tr>\n",
       "    <tr>\n",
       "      <th>7</th>\n",
       "      <td>StreamInfo(AmlDatastore://defect (50).png[{'su...</td>\n",
       "      <td>[{'label': 'defect', 'isCrowd': False, 'polygo...</td>\n",
       "      <td>[1.0]</td>\n",
       "    </tr>\n",
       "    <tr>\n",
       "      <th>8</th>\n",
       "      <td>StreamInfo(AmlDatastore://defect (7).png[{'sub...</td>\n",
       "      <td>[{'label': 'defect', 'isCrowd': False, 'polygo...</td>\n",
       "      <td>[1.0]</td>\n",
       "    </tr>\n",
       "    <tr>\n",
       "      <th>9</th>\n",
       "      <td>StreamInfo(AmlDatastore://defect (32).png[{'su...</td>\n",
       "      <td>[{'label': 'defect', 'isCrowd': False, 'polygo...</td>\n",
       "      <td>[1.0]</td>\n",
       "    </tr>\n",
       "  </tbody>\n",
       "</table>\n",
       "</div>"
      ],
      "text/plain": [
       "                                           image_url  \\\n",
       "0  StreamInfo(AmlDatastore://defect (17).png[{'su...   \n",
       "1  StreamInfo(AmlDatastore://defect (10).png[{'su...   \n",
       "2  StreamInfo(AmlDatastore://defect (4).png[{'sub...   \n",
       "3  StreamInfo(AmlDatastore://defect (28).png[{'su...   \n",
       "4  StreamInfo(AmlDatastore://defect (11).png[{'su...   \n",
       "5  StreamInfo(AmlDatastore://defect (36).png[{'su...   \n",
       "6  StreamInfo(AmlDatastore://defect (37).png[{'su...   \n",
       "7  StreamInfo(AmlDatastore://defect (50).png[{'su...   \n",
       "8  StreamInfo(AmlDatastore://defect (7).png[{'sub...   \n",
       "9  StreamInfo(AmlDatastore://defect (32).png[{'su...   \n",
       "\n",
       "                                               label label_confidence  \n",
       "0  [{'label': 'defect', 'isCrowd': False, 'polygo...       [1.0, 1.0]  \n",
       "1  [{'label': 'defect', 'isCrowd': False, 'polygo...       [1.0, 1.0]  \n",
       "2  [{'label': 'defect', 'isCrowd': False, 'polygo...            [1.0]  \n",
       "3  [{'label': 'defect', 'isCrowd': False, 'polygo...            [1.0]  \n",
       "4  [{'label': 'defect', 'isCrowd': False, 'polygo...            [1.0]  \n",
       "5  [{'label': 'defect', 'isCrowd': False, 'polygo...            [1.0]  \n",
       "6  [{'label': 'defect', 'isCrowd': False, 'polygo...            [1.0]  \n",
       "7  [{'label': 'defect', 'isCrowd': False, 'polygo...            [1.0]  \n",
       "8  [{'label': 'defect', 'isCrowd': False, 'polygo...            [1.0]  \n",
       "9  [{'label': 'defect', 'isCrowd': False, 'polygo...            [1.0]  "
      ]
     },
     "execution_count": 12,
     "metadata": {},
     "output_type": "execute_result"
    }
   ],
   "source": [
    "df.head(10)"
   ]
  },
  {
   "cell_type": "code",
   "execution_count": 13,
   "metadata": {},
   "outputs": [
    {
     "data": {
      "text/html": [
       "<div>\n",
       "<style scoped>\n",
       "    .dataframe tbody tr th:only-of-type {\n",
       "        vertical-align: middle;\n",
       "    }\n",
       "\n",
       "    .dataframe tbody tr th {\n",
       "        vertical-align: top;\n",
       "    }\n",
       "\n",
       "    .dataframe thead th {\n",
       "        text-align: right;\n",
       "    }\n",
       "</style>\n",
       "<table border=\"1\" class=\"dataframe\">\n",
       "  <thead>\n",
       "    <tr style=\"text-align: right;\">\n",
       "      <th></th>\n",
       "      <th>image_url</th>\n",
       "      <th>label</th>\n",
       "      <th>label_confidence</th>\n",
       "    </tr>\n",
       "  </thead>\n",
       "  <tbody>\n",
       "    <tr>\n",
       "      <th>0</th>\n",
       "      <td>StreamInfo(AmlDatastore://defect (17).png[{'su...</td>\n",
       "      <td>[{'label': 'defect', 'isCrowd': False, 'polygo...</td>\n",
       "      <td>[1.0, 1.0]</td>\n",
       "    </tr>\n",
       "    <tr>\n",
       "      <th>1</th>\n",
       "      <td>StreamInfo(AmlDatastore://defect (10).png[{'su...</td>\n",
       "      <td>[{'label': 'defect', 'isCrowd': False, 'polygo...</td>\n",
       "      <td>[1.0, 1.0]</td>\n",
       "    </tr>\n",
       "    <tr>\n",
       "      <th>2</th>\n",
       "      <td>StreamInfo(AmlDatastore://defect (4).png[{'sub...</td>\n",
       "      <td>[{'label': 'defect', 'isCrowd': False, 'polygo...</td>\n",
       "      <td>[1.0]</td>\n",
       "    </tr>\n",
       "    <tr>\n",
       "      <th>3</th>\n",
       "      <td>StreamInfo(AmlDatastore://defect (28).png[{'su...</td>\n",
       "      <td>[{'label': 'defect', 'isCrowd': False, 'polygo...</td>\n",
       "      <td>[1.0]</td>\n",
       "    </tr>\n",
       "    <tr>\n",
       "      <th>4</th>\n",
       "      <td>StreamInfo(AmlDatastore://defect (11).png[{'su...</td>\n",
       "      <td>[{'label': 'defect', 'isCrowd': False, 'polygo...</td>\n",
       "      <td>[1.0]</td>\n",
       "    </tr>\n",
       "    <tr>\n",
       "      <th>5</th>\n",
       "      <td>StreamInfo(AmlDatastore://defect (36).png[{'su...</td>\n",
       "      <td>[{'label': 'defect', 'isCrowd': False, 'polygo...</td>\n",
       "      <td>[1.0]</td>\n",
       "    </tr>\n",
       "    <tr>\n",
       "      <th>6</th>\n",
       "      <td>StreamInfo(AmlDatastore://defect (37).png[{'su...</td>\n",
       "      <td>[{'label': 'defect', 'isCrowd': False, 'polygo...</td>\n",
       "      <td>[1.0]</td>\n",
       "    </tr>\n",
       "    <tr>\n",
       "      <th>7</th>\n",
       "      <td>StreamInfo(AmlDatastore://defect (50).png[{'su...</td>\n",
       "      <td>[{'label': 'defect', 'isCrowd': False, 'polygo...</td>\n",
       "      <td>[1.0]</td>\n",
       "    </tr>\n",
       "    <tr>\n",
       "      <th>8</th>\n",
       "      <td>StreamInfo(AmlDatastore://defect (7).png[{'sub...</td>\n",
       "      <td>[{'label': 'defect', 'isCrowd': False, 'polygo...</td>\n",
       "      <td>[1.0]</td>\n",
       "    </tr>\n",
       "    <tr>\n",
       "      <th>9</th>\n",
       "      <td>StreamInfo(AmlDatastore://defect (32).png[{'su...</td>\n",
       "      <td>[{'label': 'defect', 'isCrowd': False, 'polygo...</td>\n",
       "      <td>[1.0]</td>\n",
       "    </tr>\n",
       "    <tr>\n",
       "      <th>10</th>\n",
       "      <td>StreamInfo(AmlDatastore://defect (21).png[{'su...</td>\n",
       "      <td>[{'label': 'defect', 'isCrowd': False, 'polygo...</td>\n",
       "      <td>[1.0]</td>\n",
       "    </tr>\n",
       "    <tr>\n",
       "      <th>11</th>\n",
       "      <td>StreamInfo(AmlDatastore://defect (27).png[{'su...</td>\n",
       "      <td>[{'label': 'defect', 'isCrowd': False, 'polygo...</td>\n",
       "      <td>[1.0]</td>\n",
       "    </tr>\n",
       "    <tr>\n",
       "      <th>12</th>\n",
       "      <td>StreamInfo(AmlDatastore://defect (43).png[{'su...</td>\n",
       "      <td>[{'label': 'defect', 'isCrowd': False, 'polygo...</td>\n",
       "      <td>[1.0]</td>\n",
       "    </tr>\n",
       "    <tr>\n",
       "      <th>13</th>\n",
       "      <td>StreamInfo(AmlDatastore://defect (20).png[{'su...</td>\n",
       "      <td>[{'label': 'defect', 'isCrowd': False, 'polygo...</td>\n",
       "      <td>[1.0]</td>\n",
       "    </tr>\n",
       "    <tr>\n",
       "      <th>14</th>\n",
       "      <td>StreamInfo(AmlDatastore://defect (40).png[{'su...</td>\n",
       "      <td>[{'label': 'defect', 'isCrowd': False, 'polygo...</td>\n",
       "      <td>[1.0]</td>\n",
       "    </tr>\n",
       "    <tr>\n",
       "      <th>15</th>\n",
       "      <td>StreamInfo(AmlDatastore://defect (2).png[{'sub...</td>\n",
       "      <td>[{'label': 'defect', 'isCrowd': False, 'polygo...</td>\n",
       "      <td>[1.0]</td>\n",
       "    </tr>\n",
       "    <tr>\n",
       "      <th>16</th>\n",
       "      <td>StreamInfo(AmlDatastore://defect (18).png[{'su...</td>\n",
       "      <td>[{'label': 'defect', 'isCrowd': False, 'polygo...</td>\n",
       "      <td>[1.0, 1.0]</td>\n",
       "    </tr>\n",
       "    <tr>\n",
       "      <th>17</th>\n",
       "      <td>StreamInfo(AmlDatastore://defect (33).png[{'su...</td>\n",
       "      <td>[{'label': 'defect', 'isCrowd': False, 'polygo...</td>\n",
       "      <td>[1.0]</td>\n",
       "    </tr>\n",
       "    <tr>\n",
       "      <th>18</th>\n",
       "      <td>StreamInfo(AmlDatastore://defect (8).png[{'sub...</td>\n",
       "      <td>[{'label': 'defect', 'isCrowd': False, 'polygo...</td>\n",
       "      <td>[1.0]</td>\n",
       "    </tr>\n",
       "    <tr>\n",
       "      <th>19</th>\n",
       "      <td>StreamInfo(AmlDatastore://defect (9).png[{'sub...</td>\n",
       "      <td>[{'label': 'defect', 'isCrowd': False, 'polygo...</td>\n",
       "      <td>[1.0]</td>\n",
       "    </tr>\n",
       "    <tr>\n",
       "      <th>20</th>\n",
       "      <td>StreamInfo(AmlDatastore://defect (19).png[{'su...</td>\n",
       "      <td>[{'label': 'defect', 'isCrowd': False, 'polygo...</td>\n",
       "      <td>[1.0, 1.0]</td>\n",
       "    </tr>\n",
       "    <tr>\n",
       "      <th>21</th>\n",
       "      <td>StreamInfo(AmlDatastore://defect (48).png[{'su...</td>\n",
       "      <td>[{'label': 'defect', 'isCrowd': False, 'polygo...</td>\n",
       "      <td>[1.0]</td>\n",
       "    </tr>\n",
       "    <tr>\n",
       "      <th>22</th>\n",
       "      <td>StreamInfo(AmlDatastore://defect (30).png[{'su...</td>\n",
       "      <td>[{'label': 'defect', 'isCrowd': False, 'polygo...</td>\n",
       "      <td>[1.0]</td>\n",
       "    </tr>\n",
       "    <tr>\n",
       "      <th>23</th>\n",
       "      <td>StreamInfo(AmlDatastore://defect (29).png[{'su...</td>\n",
       "      <td>[{'label': 'defect', 'isCrowd': False, 'polygo...</td>\n",
       "      <td>[1.0]</td>\n",
       "    </tr>\n",
       "    <tr>\n",
       "      <th>24</th>\n",
       "      <td>StreamInfo(AmlDatastore://defect (24).png[{'su...</td>\n",
       "      <td>[{'label': 'defect', 'isCrowd': False, 'polygo...</td>\n",
       "      <td>[1.0]</td>\n",
       "    </tr>\n",
       "    <tr>\n",
       "      <th>25</th>\n",
       "      <td>StreamInfo(AmlDatastore://defect (45).png[{'su...</td>\n",
       "      <td>[{'label': 'defect', 'isCrowd': False, 'polygo...</td>\n",
       "      <td>[1.0]</td>\n",
       "    </tr>\n",
       "    <tr>\n",
       "      <th>26</th>\n",
       "      <td>StreamInfo(AmlDatastore://defect (26).png[{'su...</td>\n",
       "      <td>[{'label': 'defect', 'isCrowd': False, 'polygo...</td>\n",
       "      <td>[1.0, 1.0]</td>\n",
       "    </tr>\n",
       "    <tr>\n",
       "      <th>27</th>\n",
       "      <td>StreamInfo(AmlDatastore://defect (15).png[{'su...</td>\n",
       "      <td>[{'label': 'defect', 'isCrowd': False, 'polygo...</td>\n",
       "      <td>[1.0, 1.0]</td>\n",
       "    </tr>\n",
       "    <tr>\n",
       "      <th>28</th>\n",
       "      <td>StreamInfo(AmlDatastore://defect (35).png[{'su...</td>\n",
       "      <td>[{'label': 'defect', 'isCrowd': False, 'polygo...</td>\n",
       "      <td>[1.0]</td>\n",
       "    </tr>\n",
       "    <tr>\n",
       "      <th>29</th>\n",
       "      <td>StreamInfo(AmlDatastore://defect (1).png[{'sub...</td>\n",
       "      <td>[{'label': 'defect', 'isCrowd': False, 'polygo...</td>\n",
       "      <td>[1.0, 1.0]</td>\n",
       "    </tr>\n",
       "    <tr>\n",
       "      <th>30</th>\n",
       "      <td>StreamInfo(AmlDatastore://defect (31).png[{'su...</td>\n",
       "      <td>[{'label': 'defect', 'isCrowd': False, 'polygo...</td>\n",
       "      <td>[1.0, 1.0]</td>\n",
       "    </tr>\n",
       "    <tr>\n",
       "      <th>31</th>\n",
       "      <td>StreamInfo(AmlDatastore://defect (49).png[{'su...</td>\n",
       "      <td>[{'label': 'defect', 'isCrowd': False, 'polygo...</td>\n",
       "      <td>[1.0]</td>\n",
       "    </tr>\n",
       "    <tr>\n",
       "      <th>32</th>\n",
       "      <td>StreamInfo(AmlDatastore://defect (14).png[{'su...</td>\n",
       "      <td>[{'label': 'defect', 'isCrowd': False, 'polygo...</td>\n",
       "      <td>[1.0]</td>\n",
       "    </tr>\n",
       "    <tr>\n",
       "      <th>33</th>\n",
       "      <td>StreamInfo(AmlDatastore://defect (42).png[{'su...</td>\n",
       "      <td>[{'label': 'defect', 'isCrowd': False, 'polygo...</td>\n",
       "      <td>[1.0]</td>\n",
       "    </tr>\n",
       "    <tr>\n",
       "      <th>34</th>\n",
       "      <td>StreamInfo(AmlDatastore://defect (5).png[{'sub...</td>\n",
       "      <td>[{'label': 'defect', 'isCrowd': False, 'polygo...</td>\n",
       "      <td>[1.0]</td>\n",
       "    </tr>\n",
       "    <tr>\n",
       "      <th>35</th>\n",
       "      <td>StreamInfo(AmlDatastore://defect (41).png[{'su...</td>\n",
       "      <td>[{'label': 'defect', 'isCrowd': False, 'polygo...</td>\n",
       "      <td>[1.0]</td>\n",
       "    </tr>\n",
       "    <tr>\n",
       "      <th>36</th>\n",
       "      <td>StreamInfo(AmlDatastore://defect (3).png[{'sub...</td>\n",
       "      <td>[{'label': 'defect', 'isCrowd': False, 'polygo...</td>\n",
       "      <td>[1.0]</td>\n",
       "    </tr>\n",
       "    <tr>\n",
       "      <th>37</th>\n",
       "      <td>StreamInfo(AmlDatastore://defect (6).png[{'sub...</td>\n",
       "      <td>[{'label': 'defect', 'isCrowd': False, 'polygo...</td>\n",
       "      <td>[1.0]</td>\n",
       "    </tr>\n",
       "    <tr>\n",
       "      <th>38</th>\n",
       "      <td>StreamInfo(AmlDatastore://defect (47).png[{'su...</td>\n",
       "      <td>[{'label': 'defect', 'isCrowd': False, 'polygo...</td>\n",
       "      <td>[1.0, 1.0]</td>\n",
       "    </tr>\n",
       "    <tr>\n",
       "      <th>39</th>\n",
       "      <td>StreamInfo(AmlDatastore://defect (34).png[{'su...</td>\n",
       "      <td>[{'label': 'defect', 'isCrowd': False, 'polygo...</td>\n",
       "      <td>[1.0]</td>\n",
       "    </tr>\n",
       "    <tr>\n",
       "      <th>40</th>\n",
       "      <td>StreamInfo(AmlDatastore://defect (22).png[{'su...</td>\n",
       "      <td>[{'label': 'defect', 'isCrowd': False, 'polygo...</td>\n",
       "      <td>[1.0]</td>\n",
       "    </tr>\n",
       "    <tr>\n",
       "      <th>41</th>\n",
       "      <td>StreamInfo(AmlDatastore://defect (38).png[{'su...</td>\n",
       "      <td>[{'label': 'defect', 'isCrowd': False, 'polygo...</td>\n",
       "      <td>[1.0]</td>\n",
       "    </tr>\n",
       "    <tr>\n",
       "      <th>42</th>\n",
       "      <td>StreamInfo(AmlDatastore://defect (25).png[{'su...</td>\n",
       "      <td>[{'label': 'defect', 'isCrowd': False, 'polygo...</td>\n",
       "      <td>[1.0]</td>\n",
       "    </tr>\n",
       "    <tr>\n",
       "      <th>43</th>\n",
       "      <td>StreamInfo(AmlDatastore://defect (44).png[{'su...</td>\n",
       "      <td>[{'label': 'defect', 'isCrowd': False, 'polygo...</td>\n",
       "      <td>[1.0]</td>\n",
       "    </tr>\n",
       "    <tr>\n",
       "      <th>44</th>\n",
       "      <td>StreamInfo(AmlDatastore://defect (13).png[{'su...</td>\n",
       "      <td>[{'label': 'defect', 'isCrowd': False, 'polygo...</td>\n",
       "      <td>[1.0]</td>\n",
       "    </tr>\n",
       "    <tr>\n",
       "      <th>45</th>\n",
       "      <td>StreamInfo(AmlDatastore://defect (23).png[{'su...</td>\n",
       "      <td>[{'label': 'defect', 'isCrowd': False, 'polygo...</td>\n",
       "      <td>[1.0]</td>\n",
       "    </tr>\n",
       "    <tr>\n",
       "      <th>46</th>\n",
       "      <td>StreamInfo(AmlDatastore://defect (39).png[{'su...</td>\n",
       "      <td>[{'label': 'defect', 'isCrowd': False, 'polygo...</td>\n",
       "      <td>[1.0]</td>\n",
       "    </tr>\n",
       "    <tr>\n",
       "      <th>47</th>\n",
       "      <td>StreamInfo(AmlDatastore://defect (46).png[{'su...</td>\n",
       "      <td>[{'label': 'defect', 'isCrowd': False, 'polygo...</td>\n",
       "      <td>[1.0, 1.0]</td>\n",
       "    </tr>\n",
       "    <tr>\n",
       "      <th>48</th>\n",
       "      <td>StreamInfo(AmlDatastore://defect (12).png[{'su...</td>\n",
       "      <td>[{'label': 'defect', 'isCrowd': False, 'polygo...</td>\n",
       "      <td>[1.0]</td>\n",
       "    </tr>\n",
       "    <tr>\n",
       "      <th>49</th>\n",
       "      <td>StreamInfo(AmlDatastore://defect (16).png[{'su...</td>\n",
       "      <td>[{'label': 'defect', 'isCrowd': False, 'polygo...</td>\n",
       "      <td>[1.0]</td>\n",
       "    </tr>\n",
       "  </tbody>\n",
       "</table>\n",
       "</div>"
      ],
      "text/plain": [
       "                                            image_url  \\\n",
       "0   StreamInfo(AmlDatastore://defect (17).png[{'su...   \n",
       "1   StreamInfo(AmlDatastore://defect (10).png[{'su...   \n",
       "2   StreamInfo(AmlDatastore://defect (4).png[{'sub...   \n",
       "3   StreamInfo(AmlDatastore://defect (28).png[{'su...   \n",
       "4   StreamInfo(AmlDatastore://defect (11).png[{'su...   \n",
       "5   StreamInfo(AmlDatastore://defect (36).png[{'su...   \n",
       "6   StreamInfo(AmlDatastore://defect (37).png[{'su...   \n",
       "7   StreamInfo(AmlDatastore://defect (50).png[{'su...   \n",
       "8   StreamInfo(AmlDatastore://defect (7).png[{'sub...   \n",
       "9   StreamInfo(AmlDatastore://defect (32).png[{'su...   \n",
       "10  StreamInfo(AmlDatastore://defect (21).png[{'su...   \n",
       "11  StreamInfo(AmlDatastore://defect (27).png[{'su...   \n",
       "12  StreamInfo(AmlDatastore://defect (43).png[{'su...   \n",
       "13  StreamInfo(AmlDatastore://defect (20).png[{'su...   \n",
       "14  StreamInfo(AmlDatastore://defect (40).png[{'su...   \n",
       "15  StreamInfo(AmlDatastore://defect (2).png[{'sub...   \n",
       "16  StreamInfo(AmlDatastore://defect (18).png[{'su...   \n",
       "17  StreamInfo(AmlDatastore://defect (33).png[{'su...   \n",
       "18  StreamInfo(AmlDatastore://defect (8).png[{'sub...   \n",
       "19  StreamInfo(AmlDatastore://defect (9).png[{'sub...   \n",
       "20  StreamInfo(AmlDatastore://defect (19).png[{'su...   \n",
       "21  StreamInfo(AmlDatastore://defect (48).png[{'su...   \n",
       "22  StreamInfo(AmlDatastore://defect (30).png[{'su...   \n",
       "23  StreamInfo(AmlDatastore://defect (29).png[{'su...   \n",
       "24  StreamInfo(AmlDatastore://defect (24).png[{'su...   \n",
       "25  StreamInfo(AmlDatastore://defect (45).png[{'su...   \n",
       "26  StreamInfo(AmlDatastore://defect (26).png[{'su...   \n",
       "27  StreamInfo(AmlDatastore://defect (15).png[{'su...   \n",
       "28  StreamInfo(AmlDatastore://defect (35).png[{'su...   \n",
       "29  StreamInfo(AmlDatastore://defect (1).png[{'sub...   \n",
       "30  StreamInfo(AmlDatastore://defect (31).png[{'su...   \n",
       "31  StreamInfo(AmlDatastore://defect (49).png[{'su...   \n",
       "32  StreamInfo(AmlDatastore://defect (14).png[{'su...   \n",
       "33  StreamInfo(AmlDatastore://defect (42).png[{'su...   \n",
       "34  StreamInfo(AmlDatastore://defect (5).png[{'sub...   \n",
       "35  StreamInfo(AmlDatastore://defect (41).png[{'su...   \n",
       "36  StreamInfo(AmlDatastore://defect (3).png[{'sub...   \n",
       "37  StreamInfo(AmlDatastore://defect (6).png[{'sub...   \n",
       "38  StreamInfo(AmlDatastore://defect (47).png[{'su...   \n",
       "39  StreamInfo(AmlDatastore://defect (34).png[{'su...   \n",
       "40  StreamInfo(AmlDatastore://defect (22).png[{'su...   \n",
       "41  StreamInfo(AmlDatastore://defect (38).png[{'su...   \n",
       "42  StreamInfo(AmlDatastore://defect (25).png[{'su...   \n",
       "43  StreamInfo(AmlDatastore://defect (44).png[{'su...   \n",
       "44  StreamInfo(AmlDatastore://defect (13).png[{'su...   \n",
       "45  StreamInfo(AmlDatastore://defect (23).png[{'su...   \n",
       "46  StreamInfo(AmlDatastore://defect (39).png[{'su...   \n",
       "47  StreamInfo(AmlDatastore://defect (46).png[{'su...   \n",
       "48  StreamInfo(AmlDatastore://defect (12).png[{'su...   \n",
       "49  StreamInfo(AmlDatastore://defect (16).png[{'su...   \n",
       "\n",
       "                                                label label_confidence  \n",
       "0   [{'label': 'defect', 'isCrowd': False, 'polygo...       [1.0, 1.0]  \n",
       "1   [{'label': 'defect', 'isCrowd': False, 'polygo...       [1.0, 1.0]  \n",
       "2   [{'label': 'defect', 'isCrowd': False, 'polygo...            [1.0]  \n",
       "3   [{'label': 'defect', 'isCrowd': False, 'polygo...            [1.0]  \n",
       "4   [{'label': 'defect', 'isCrowd': False, 'polygo...            [1.0]  \n",
       "5   [{'label': 'defect', 'isCrowd': False, 'polygo...            [1.0]  \n",
       "6   [{'label': 'defect', 'isCrowd': False, 'polygo...            [1.0]  \n",
       "7   [{'label': 'defect', 'isCrowd': False, 'polygo...            [1.0]  \n",
       "8   [{'label': 'defect', 'isCrowd': False, 'polygo...            [1.0]  \n",
       "9   [{'label': 'defect', 'isCrowd': False, 'polygo...            [1.0]  \n",
       "10  [{'label': 'defect', 'isCrowd': False, 'polygo...            [1.0]  \n",
       "11  [{'label': 'defect', 'isCrowd': False, 'polygo...            [1.0]  \n",
       "12  [{'label': 'defect', 'isCrowd': False, 'polygo...            [1.0]  \n",
       "13  [{'label': 'defect', 'isCrowd': False, 'polygo...            [1.0]  \n",
       "14  [{'label': 'defect', 'isCrowd': False, 'polygo...            [1.0]  \n",
       "15  [{'label': 'defect', 'isCrowd': False, 'polygo...            [1.0]  \n",
       "16  [{'label': 'defect', 'isCrowd': False, 'polygo...       [1.0, 1.0]  \n",
       "17  [{'label': 'defect', 'isCrowd': False, 'polygo...            [1.0]  \n",
       "18  [{'label': 'defect', 'isCrowd': False, 'polygo...            [1.0]  \n",
       "19  [{'label': 'defect', 'isCrowd': False, 'polygo...            [1.0]  \n",
       "20  [{'label': 'defect', 'isCrowd': False, 'polygo...       [1.0, 1.0]  \n",
       "21  [{'label': 'defect', 'isCrowd': False, 'polygo...            [1.0]  \n",
       "22  [{'label': 'defect', 'isCrowd': False, 'polygo...            [1.0]  \n",
       "23  [{'label': 'defect', 'isCrowd': False, 'polygo...            [1.0]  \n",
       "24  [{'label': 'defect', 'isCrowd': False, 'polygo...            [1.0]  \n",
       "25  [{'label': 'defect', 'isCrowd': False, 'polygo...            [1.0]  \n",
       "26  [{'label': 'defect', 'isCrowd': False, 'polygo...       [1.0, 1.0]  \n",
       "27  [{'label': 'defect', 'isCrowd': False, 'polygo...       [1.0, 1.0]  \n",
       "28  [{'label': 'defect', 'isCrowd': False, 'polygo...            [1.0]  \n",
       "29  [{'label': 'defect', 'isCrowd': False, 'polygo...       [1.0, 1.0]  \n",
       "30  [{'label': 'defect', 'isCrowd': False, 'polygo...       [1.0, 1.0]  \n",
       "31  [{'label': 'defect', 'isCrowd': False, 'polygo...            [1.0]  \n",
       "32  [{'label': 'defect', 'isCrowd': False, 'polygo...            [1.0]  \n",
       "33  [{'label': 'defect', 'isCrowd': False, 'polygo...            [1.0]  \n",
       "34  [{'label': 'defect', 'isCrowd': False, 'polygo...            [1.0]  \n",
       "35  [{'label': 'defect', 'isCrowd': False, 'polygo...            [1.0]  \n",
       "36  [{'label': 'defect', 'isCrowd': False, 'polygo...            [1.0]  \n",
       "37  [{'label': 'defect', 'isCrowd': False, 'polygo...            [1.0]  \n",
       "38  [{'label': 'defect', 'isCrowd': False, 'polygo...       [1.0, 1.0]  \n",
       "39  [{'label': 'defect', 'isCrowd': False, 'polygo...            [1.0]  \n",
       "40  [{'label': 'defect', 'isCrowd': False, 'polygo...            [1.0]  \n",
       "41  [{'label': 'defect', 'isCrowd': False, 'polygo...            [1.0]  \n",
       "42  [{'label': 'defect', 'isCrowd': False, 'polygo...            [1.0]  \n",
       "43  [{'label': 'defect', 'isCrowd': False, 'polygo...            [1.0]  \n",
       "44  [{'label': 'defect', 'isCrowd': False, 'polygo...            [1.0]  \n",
       "45  [{'label': 'defect', 'isCrowd': False, 'polygo...            [1.0]  \n",
       "46  [{'label': 'defect', 'isCrowd': False, 'polygo...            [1.0]  \n",
       "47  [{'label': 'defect', 'isCrowd': False, 'polygo...       [1.0, 1.0]  \n",
       "48  [{'label': 'defect', 'isCrowd': False, 'polygo...            [1.0]  \n",
       "49  [{'label': 'defect', 'isCrowd': False, 'polygo...            [1.0]  "
      ]
     },
     "execution_count": 13,
     "metadata": {},
     "output_type": "execute_result"
    }
   ],
   "source": [
    "fulldataset.to_pandas_dataframe()"
   ]
  },
  {
   "cell_type": "markdown",
   "metadata": {},
   "source": [
    "## 5. Configuring your AutoML run for image tasks\n",
    "AutoML allows you to easily train models for Image Classification, Object Detection & Instance Segmentation on your image data. You can control the model algorithm to be used, specify hyperparameter values for your model as well as perform a sweep across the hyperparameter space to generate an optimal model. Parameters for configuring your AutoML Image run are specified using the `AutoMLImageConfig` - please refer to the [documentation](https://docs.microsoft.com/en-us/azure/machine-learning/how-to-auto-train-image-models#configure-your-experiment-settings) for the details on the parameters that can be used and their values."
   ]
  },
  {
   "cell_type": "markdown",
   "metadata": {},
   "source": [
    "When using AutoML for image tasks, you need to specify the model algorithms using the `model_name` parameter. You can either specify a single model or choose to sweep over multiple models. Please refer to the [documentation](https://docs.microsoft.com/en-us/azure/machine-learning/how-to-auto-train-image-models#configure-model-algorithms-and-hyperparameters) for the list of supported model algorithms."
   ]
  },
  {
   "cell_type": "markdown",
   "metadata": {},
   "source": [
    "### Using default hyperparameter values for the specified algorithm\n",
    "Before doing a large sweep to search for the optimal models and hyperparameters, we recommend trying the default values for a given model to get a first baseline. Next, you can explore multiple hyperparameters for the same model before sweeping over multiple models and their parameters. This allows an iterative approach, as with multiple models and multiple hyperparameters for each (as we showcase in the next section), the search space grows exponentially, and  you need more iterations to find optimal configurations.\n",
    "\n",
    "If you wish to use the default hyperparameter values for a given algorithm (say `maskrcnn`), you can specify the config for your AutoML Image runs as follows:"
   ]
  },
  {
   "cell_type": "code",
   "execution_count": 14,
   "metadata": {},
   "outputs": [],
   "source": [
    "from azureml.automl.core.shared.constants import ImageTask\n",
    "from azureml.train.automl import AutoMLImageConfig\n",
    "from azureml.train.hyperdrive import GridParameterSampling, choice"
   ]
  },
  {
   "cell_type": "markdown",
   "metadata": {},
   "source": [
    "Documentation : https://docs.microsoft.com/en-us/azure/machine-learning/how-to-auto-train-image-models#configure-model-algorithms-and-hyperparameters"
   ]
  },
  {
   "cell_type": "code",
   "execution_count": 15,
   "metadata": {},
   "outputs": [],
   "source": [
    "image_config_maskrcnn = AutoMLImageConfig(\n",
    "    task=ImageTask.IMAGE_INSTANCE_SEGMENTATION, # This is an instance segmentation task\n",
    "    compute_target = compute_target, # Azure ML GPU cluster to use\n",
    "    training_data = fulldataset, # images\n",
    "    #validation_data = validation_dataset, # by default 20% is the for the validation or you can specify a val dataset \n",
    "    experiment_timeout_hours = 0.5, # Timeout in hours\n",
    "    hyperparameter_sampling = GridParameterSampling({\"model_name\": choice(\"maskrcnn_resnet152_fpn\")}),\n",
    "    iterations = 1, # 1 is for the default hyperparameter values\n",
    ")"
   ]
  },
  {
   "cell_type": "markdown",
   "metadata": {},
   "source": [
    "## 6. Submitting an AutoML run for Computer Vision tasks\n",
    "Once you've created the config settings for your run, you can submit an AutoML run using the config in order to train a vision model using your training dataset."
   ]
  },
  {
   "cell_type": "code",
   "execution_count": 16,
   "metadata": {},
   "outputs": [
    {
     "name": "stdout",
     "output_type": "stream",
     "text": [
      "2022-01-04 09:43:17.536481 Running AutoML for Images...\n",
      "\n",
      "Submitting remote run.\n"
     ]
    },
    {
     "data": {
      "text/html": [
       "<table style=\"width:100%\"><tr><th>Experiment</th><th>Id</th><th>Type</th><th>Status</th><th>Details Page</th><th>Docs Page</th></tr><tr><td>AutoML-InstanceSegmentation-GlassDefect</td><td>AutoML_694ff7ff-2a94-40b1-a433-1fef66010463</td><td>automl</td><td>NotStarted</td><td><a href=\"https://ml.azure.com/runs/AutoML_694ff7ff-2a94-40b1-a433-1fef66010463?wsid=/subscriptions/70b8f39e-8863-49f7-b6ba-34a80799550c/resourcegroups/azuremlvision-rg/workspaces/azuremlvision&amp;tid=72f988bf-86f1-41af-91ab-2d7cd011db47\" target=\"_blank\" rel=\"noopener\">Link to Azure Machine Learning studio</a></td><td><a href=\"https://docs.microsoft.com/en-us/python/api/overview/azure/ml/intro?view=azure-ml-py\" target=\"_blank\" rel=\"noopener\">Link to Documentation</a></td></tr></table>"
      ],
      "text/plain": [
       "<IPython.core.display.HTML object>"
      ]
     },
     "metadata": {},
     "output_type": "display_data"
    },
    {
     "name": "stdout",
     "output_type": "stream",
     "text": [
      "\n",
      "2022-01-04 10:00:25.612740 Training time: 0:17:08.076259\n"
     ]
    }
   ],
   "source": [
    "t1 = datetime.datetime.now()\n",
    "print(t1, \"Running AutoML for Images...\\n\")\n",
    "\n",
    "automl_image_run = experiment.submit(image_config_maskrcnn)\n",
    "automl_image_run.wait_for_completion(wait_post_processing=True)\n",
    "\n",
    "t2 = datetime.datetime.now()\n",
    "print()\n",
    "print(t2, \"Training time:\", t2 - t1)"
   ]
  },
  {
   "cell_type": "markdown",
   "metadata": {},
   "source": [
    "### Interactive widget for the results"
   ]
  },
  {
   "cell_type": "code",
   "execution_count": 17,
   "metadata": {},
   "outputs": [
    {
     "data": {
      "application/vnd.jupyter.widget-view+json": {
       "model_id": "e57e7485fca047f6a971ab7d111d410d",
       "version_major": 2,
       "version_minor": 0
      },
      "text/plain": [
       "_AutoMLWidget(widget_settings={'childWidgetDisplay': 'popup', 'send_telemetry': False, 'log_level': 'INFO', 's…"
      ]
     },
     "metadata": {},
     "output_type": "display_data"
    },
    {
     "data": {
      "application/aml.mini.widget.v1": "\"TypeError(\\\"Object of type 'ImageArtifact' is not JSON serializable\\\",)\""
     },
     "metadata": {},
     "output_type": "display_data"
    }
   ],
   "source": [
    "from azureml.widgets import RunDetails\n",
    "RunDetails(automl_image_run).show()"
   ]
  },
  {
   "cell_type": "markdown",
   "metadata": {},
   "source": [
    "### [Optional] Hyperparameter sweeping for your AutoML models for computer vision tasks\n",
    "In this example, we use the AutoMLImageConfig to train an Instance Segmentation model using `maskrcnn_resnet50_fpn` which is pretrained on COCO, a large-scale object detection, segmentation, and captioning dataset that contains over 200K labeled images with over 80 label categories.\n",
    "\n",
    "When using AutoML for Images, you can perform a hyperparameter sweep over a defined parameter space to find the optimal model. In this example, we sweep over the hyperparameters for each algorithm, choosing from a range of values for learning_rate, optimizer, etc., to generate a model with the optimal 'accuracy'. If hyperparameter values are not specified, then default values are used for the specified algorithm.\n",
    "\n",
    "We use Random Sampling to pick samples from this parameter space and try a total of 10 iterations with these different samples, running 2 iterations at a time on our compute target, which has been previously set up using 4 nodes.  Please note that the more parameters the space has, the more iterations you need to find optimal models.\n",
    "\n",
    "We leverage the Bandit early termination policy which will terminate poor performing configs (those that are not within 20% slack of the best performing config), thus significantly saving compute resources.\n",
    "\n",
    "For more details on model and hyperparameter sweeping, please refer to the [documentation](https://docs.microsoft.com/en-us/azure/machine-learning/how-to-tune-hyperparameters)."
   ]
  },
  {
   "cell_type": "markdown",
   "metadata": {},
   "source": [
    "from azureml.automl.core.shared.constants import ImageTask\n",
    "from azureml.train.automl import AutoMLImageConfig\n",
    "from azureml.train.hyperdrive import BanditPolicy, RandomParameterSampling\n",
    "from azureml.train.hyperdrive import choice, uniform\n",
    "\n",
    "parameter_space = {\n",
    "    \"model_name\": choice(\"maskrcnn_resnet50_fpn\"),\n",
    "    \"learning_rate\": uniform(0.0001, 0.001),\n",
    "    #'warmup_cosine_lr_warmup_epochs': choice(0, 3),\n",
    "    \"optimizer\": choice(\"sgd\", \"adam\", \"adamw\"),\n",
    "    \"min_size\": choice(350, 490),\n",
    "}\n",
    "\n",
    "tuning_settings = {\n",
    "    \"iterations\": 10,\n",
    "    \"max_concurrent_iterations\": 2,\n",
    "    \"hyperparameter_sampling\": RandomParameterSampling(parameter_space),\n",
    "    \"early_termination_policy\": BanditPolicy(\n",
    "        evaluation_interval=2, slack_factor=0.2, delay_evaluation=6\n",
    "    ),\n",
    "}\n",
    "\n",
    "automl_image_config = AutoMLImageConfig(\n",
    "    task=ImageTask.IMAGE_INSTANCE_SEGMENTATION,\n",
    "    compute_target=compute_target,\n",
    "    training_data=training_dataset,\n",
    "    validation_data=validation_dataset,\n",
    "    **tuning_settings,\n",
    ")"
   ]
  },
  {
   "cell_type": "markdown",
   "metadata": {},
   "source": [
    "automl_image_run = experiment.submit(automl_image_config)"
   ]
  },
  {
   "cell_type": "markdown",
   "metadata": {},
   "source": [
    "automl_image_run.wait_for_completion(wait_post_processing=True)"
   ]
  },
  {
   "cell_type": "markdown",
   "metadata": {},
   "source": [
    "When doing a hyperparameter sweep, it can be useful to visualize the different configurations that were tried using the HyperDrive UI. You can navigate to this UI by going to the 'Child runs' tab in the UI of the main `automl_image_run` from above, which is the HyperDrive parent run. Then you can go into the 'Child runs' tab of this HyperDrive parent run. Alternatively, here below you can see directly the HyperDrive parent run and navigate to its 'Child runs' tab:"
   ]
  },
  {
   "cell_type": "code",
   "execution_count": 18,
   "metadata": {},
   "outputs": [
    {
     "data": {
      "text/html": [
       "<table style=\"width:100%\"><tr><th>Experiment</th><th>Id</th><th>Type</th><th>Status</th><th>Details Page</th><th>Docs Page</th></tr><tr><td>AutoML-InstanceSegmentation-GlassDefect</td><td>AutoML_694ff7ff-2a94-40b1-a433-1fef66010463_HD</td><td>hyperdrive</td><td>Completed</td><td><a href=\"https://ml.azure.com/runs/AutoML_694ff7ff-2a94-40b1-a433-1fef66010463_HD?wsid=/subscriptions/70b8f39e-8863-49f7-b6ba-34a80799550c/resourcegroups/azuremlvision-rg/workspaces/azuremlvision&amp;tid=72f988bf-86f1-41af-91ab-2d7cd011db47\" target=\"_blank\" rel=\"noopener\">Link to Azure Machine Learning studio</a></td><td><a href=\"https://docs.microsoft.com/en-us/python/api/azureml-core/azureml.core.run.Run?view=azure-ml-py\" target=\"_blank\" rel=\"noopener\">Link to Documentation</a></td></tr></table>"
      ],
      "text/plain": [
       "Run(Experiment: AutoML-InstanceSegmentation-GlassDefect,\n",
       "Id: AutoML_694ff7ff-2a94-40b1-a433-1fef66010463_HD,\n",
       "Type: hyperdrive,\n",
       "Status: Completed)"
      ]
     },
     "execution_count": 18,
     "metadata": {},
     "output_type": "execute_result"
    }
   ],
   "source": [
    "from azureml.core import Run\n",
    "hyperdrive_run = Run(experiment=experiment, run_id=automl_image_run.id + \"_HD\")\n",
    "hyperdrive_run"
   ]
  },
  {
   "cell_type": "markdown",
   "metadata": {},
   "source": [
    "## 7. Register the model from the AutoML run\n",
    "Once the run completes, we can register the model that was created from the best run (configuration that resulted in the best primary metric)"
   ]
  },
  {
   "cell_type": "code",
   "execution_count": 19,
   "metadata": {},
   "outputs": [],
   "source": [
    "model_desc = \"Instance Segmentation CV model for detecting glass defect\"\n",
    "\n",
    "model_tags = {\"Data\" : \"Images\", \n",
    "              \"Context\" : \"Glass Defect Detection\",\n",
    "              \"Task\" : \"Instance Segmentation\",\n",
    "              \"Framework\" : \"Azure ML AutoML for Images\"}"
   ]
  },
  {
   "cell_type": "code",
   "execution_count": 20,
   "metadata": {},
   "outputs": [
    {
     "name": "stdout",
     "output_type": "stream",
     "text": [
      "2022-01-04 10:00:53.154887 Registering the model...\n",
      "\n",
      "\n",
      "2022-01-04 10:00:55.068142 Time to register the model: 0:00:01.913255\n"
     ]
    }
   ],
   "source": [
    "t1 = datetime.datetime.now()\n",
    "print(t1, \"Registering the model...\\n\")\n",
    "\n",
    "best_child_run = automl_image_run.get_best_child()\n",
    "model_name = best_child_run.properties[\"model_name\"]\n",
    "\n",
    "model = best_child_run.register_model(model_name=model_name, \n",
    "                                      model_path=\"outputs/model.pt\", # Model to register (PyTorch format)\n",
    "                                      description=model_desc,\n",
    "                                      tags=model_tags)\n",
    "t2 = datetime.datetime.now()\n",
    "print()\n",
    "print(t2, \"Time to register the model:\", t2 - t1)"
   ]
  },
  {
   "cell_type": "code",
   "execution_count": 21,
   "metadata": {},
   "outputs": [
    {
     "data": {
      "text/plain": [
       "'AutoML694ff7ff20:1'"
      ]
     },
     "execution_count": 21,
     "metadata": {},
     "output_type": "execute_result"
    }
   ],
   "source": [
    "model.id"
   ]
  },
  {
   "cell_type": "code",
   "execution_count": 22,
   "metadata": {},
   "outputs": [
    {
     "data": {
      "text/plain": [
       "1"
      ]
     },
     "execution_count": 22,
     "metadata": {},
     "output_type": "execute_result"
    }
   ],
   "source": [
    "model.version"
   ]
  },
  {
   "cell_type": "code",
   "execution_count": 23,
   "metadata": {},
   "outputs": [
    {
     "data": {
      "text/plain": [
       "'Instance Segmentation CV model for detecting glass defect'"
      ]
     },
     "execution_count": 23,
     "metadata": {},
     "output_type": "execute_result"
    }
   ],
   "source": [
    "model.description"
   ]
  },
  {
   "cell_type": "code",
   "execution_count": 24,
   "metadata": {},
   "outputs": [
    {
     "data": {
      "text/plain": [
       "{'Data': 'Images',\n",
       " 'Context': 'Glass Defect Detection',\n",
       " 'Task': 'Instance Segmentation',\n",
       " 'Framework': 'Azure ML AutoML for Images'}"
      ]
     },
     "execution_count": 24,
     "metadata": {},
     "output_type": "execute_result"
    }
   ],
   "source": [
    "model.tags"
   ]
  },
  {
   "cell_type": "markdown",
   "metadata": {},
   "source": [
    "## 8. Model results"
   ]
  },
  {
   "cell_type": "code",
   "execution_count": 25,
   "metadata": {},
   "outputs": [
    {
     "data": {
      "text/plain": [
       "<bound method Run.get_properties of Run(Experiment: AutoML-InstanceSegmentation-GlassDefect,\n",
       "Id: AutoML_694ff7ff-2a94-40b1-a433-1fef66010463,\n",
       "Type: automl,\n",
       "Status: Completed)>"
      ]
     },
     "execution_count": 25,
     "metadata": {},
     "output_type": "execute_result"
    }
   ],
   "source": [
    "automl_image_run.get_properties"
   ]
  },
  {
   "cell_type": "code",
   "execution_count": 26,
   "metadata": {},
   "outputs": [
    {
     "data": {
      "text/html": [
       "<div>\n",
       "<style scoped>\n",
       "    .dataframe tbody tr th:only-of-type {\n",
       "        vertical-align: middle;\n",
       "    }\n",
       "\n",
       "    .dataframe tbody tr th {\n",
       "        vertical-align: top;\n",
       "    }\n",
       "\n",
       "    .dataframe thead th {\n",
       "        text-align: right;\n",
       "    }\n",
       "</style>\n",
       "<table border=\"1\" class=\"dataframe\">\n",
       "  <thead>\n",
       "    <tr style=\"text-align: right;\">\n",
       "      <th></th>\n",
       "      <th>recall</th>\n",
       "      <th>precision</th>\n",
       "      <th>per_label_metrics</th>\n",
       "      <th>mean_average_precision</th>\n",
       "    </tr>\n",
       "  </thead>\n",
       "  <tbody>\n",
       "    <tr>\n",
       "      <th>0</th>\n",
       "      <td>0.09091</td>\n",
       "      <td>0.02564</td>\n",
       "      <td>{1: {'precision': 0.02564, 'recall': 0.09091, ...</td>\n",
       "      <td>0.01136</td>\n",
       "    </tr>\n",
       "    <tr>\n",
       "      <th>1</th>\n",
       "      <td>1.00000</td>\n",
       "      <td>0.06918</td>\n",
       "      <td>{1: {'precision': 0.06918, 'recall': 1.0, 'ave...</td>\n",
       "      <td>0.70576</td>\n",
       "    </tr>\n",
       "    <tr>\n",
       "      <th>2</th>\n",
       "      <td>1.00000</td>\n",
       "      <td>0.18966</td>\n",
       "      <td>{1: {'precision': 0.18966, 'recall': 1.0, 'ave...</td>\n",
       "      <td>0.72281</td>\n",
       "    </tr>\n",
       "    <tr>\n",
       "      <th>3</th>\n",
       "      <td>0.90909</td>\n",
       "      <td>0.41667</td>\n",
       "      <td>{1: {'precision': 0.41667, 'recall': 0.90909, ...</td>\n",
       "      <td>0.89256</td>\n",
       "    </tr>\n",
       "    <tr>\n",
       "      <th>4</th>\n",
       "      <td>0.90909</td>\n",
       "      <td>0.38462</td>\n",
       "      <td>{1: {'precision': 0.38462, 'recall': 0.90909, ...</td>\n",
       "      <td>0.90083</td>\n",
       "    </tr>\n",
       "    <tr>\n",
       "      <th>5</th>\n",
       "      <td>0.90909</td>\n",
       "      <td>0.47619</td>\n",
       "      <td>{1: {'precision': 0.47619, 'recall': 0.90909, ...</td>\n",
       "      <td>0.84848</td>\n",
       "    </tr>\n",
       "    <tr>\n",
       "      <th>6</th>\n",
       "      <td>0.90909</td>\n",
       "      <td>0.38462</td>\n",
       "      <td>{1: {'precision': 0.38462, 'recall': 0.90909, ...</td>\n",
       "      <td>0.87879</td>\n",
       "    </tr>\n",
       "    <tr>\n",
       "      <th>7</th>\n",
       "      <td>0.90909</td>\n",
       "      <td>0.55556</td>\n",
       "      <td>{1: {'precision': 0.55556, 'recall': 0.90909, ...</td>\n",
       "      <td>0.90083</td>\n",
       "    </tr>\n",
       "    <tr>\n",
       "      <th>8</th>\n",
       "      <td>0.90909</td>\n",
       "      <td>0.62500</td>\n",
       "      <td>{1: {'precision': 0.625, 'recall': 0.90909, 'a...</td>\n",
       "      <td>0.89394</td>\n",
       "    </tr>\n",
       "    <tr>\n",
       "      <th>9</th>\n",
       "      <td>0.90909</td>\n",
       "      <td>0.76923</td>\n",
       "      <td>{1: {'precision': 0.76923, 'recall': 0.90909, ...</td>\n",
       "      <td>0.86869</td>\n",
       "    </tr>\n",
       "    <tr>\n",
       "      <th>10</th>\n",
       "      <td>0.90909</td>\n",
       "      <td>0.58824</td>\n",
       "      <td>{1: {'precision': 0.58824, 'recall': 0.90909, ...</td>\n",
       "      <td>0.84848</td>\n",
       "    </tr>\n",
       "  </tbody>\n",
       "</table>\n",
       "</div>"
      ],
      "text/plain": [
       "     recall  precision                                  per_label_metrics  \\\n",
       "0   0.09091    0.02564  {1: {'precision': 0.02564, 'recall': 0.09091, ...   \n",
       "1   1.00000    0.06918  {1: {'precision': 0.06918, 'recall': 1.0, 'ave...   \n",
       "2   1.00000    0.18966  {1: {'precision': 0.18966, 'recall': 1.0, 'ave...   \n",
       "3   0.90909    0.41667  {1: {'precision': 0.41667, 'recall': 0.90909, ...   \n",
       "4   0.90909    0.38462  {1: {'precision': 0.38462, 'recall': 0.90909, ...   \n",
       "5   0.90909    0.47619  {1: {'precision': 0.47619, 'recall': 0.90909, ...   \n",
       "6   0.90909    0.38462  {1: {'precision': 0.38462, 'recall': 0.90909, ...   \n",
       "7   0.90909    0.55556  {1: {'precision': 0.55556, 'recall': 0.90909, ...   \n",
       "8   0.90909    0.62500  {1: {'precision': 0.625, 'recall': 0.90909, 'a...   \n",
       "9   0.90909    0.76923  {1: {'precision': 0.76923, 'recall': 0.90909, ...   \n",
       "10  0.90909    0.58824  {1: {'precision': 0.58824, 'recall': 0.90909, ...   \n",
       "\n",
       "    mean_average_precision  \n",
       "0                  0.01136  \n",
       "1                  0.70576  \n",
       "2                  0.72281  \n",
       "3                  0.89256  \n",
       "4                  0.90083  \n",
       "5                  0.84848  \n",
       "6                  0.87879  \n",
       "7                  0.90083  \n",
       "8                  0.89394  \n",
       "9                  0.86869  \n",
       "10                 0.84848  "
      ]
     },
     "execution_count": 26,
     "metadata": {},
     "output_type": "execute_result"
    }
   ],
   "source": [
    "metricsdf = pd.DataFrame(automl_image_run.get_metrics()) # Convert to a pandas df\n",
    "metricsdf"
   ]
  },
  {
   "cell_type": "code",
   "execution_count": 27,
   "metadata": {},
   "outputs": [
    {
     "data": {
      "text/html": [
       "<div>\n",
       "<style scoped>\n",
       "    .dataframe tbody tr th:only-of-type {\n",
       "        vertical-align: middle;\n",
       "    }\n",
       "\n",
       "    .dataframe tbody tr th {\n",
       "        vertical-align: top;\n",
       "    }\n",
       "\n",
       "    .dataframe thead th {\n",
       "        text-align: right;\n",
       "    }\n",
       "</style>\n",
       "<table border=\"1\" class=\"dataframe\">\n",
       "  <thead>\n",
       "    <tr style=\"text-align: right;\">\n",
       "      <th></th>\n",
       "      <th>recall</th>\n",
       "      <th>precision</th>\n",
       "      <th>per_label_metrics</th>\n",
       "      <th>mean_average_precision</th>\n",
       "    </tr>\n",
       "  </thead>\n",
       "  <tbody>\n",
       "    <tr>\n",
       "      <th>10</th>\n",
       "      <td>0.90909</td>\n",
       "      <td>0.58824</td>\n",
       "      <td>{1: {'precision': 0.58824, 'recall': 0.90909, ...</td>\n",
       "      <td>0.84848</td>\n",
       "    </tr>\n",
       "  </tbody>\n",
       "</table>\n",
       "</div>"
      ],
      "text/plain": [
       "     recall  precision                                  per_label_metrics  \\\n",
       "10  0.90909    0.58824  {1: {'precision': 0.58824, 'recall': 0.90909, ...   \n",
       "\n",
       "    mean_average_precision  \n",
       "10                 0.84848  "
      ]
     },
     "execution_count": 27,
     "metadata": {},
     "output_type": "execute_result"
    }
   ],
   "source": [
    "metricsdf.tail(1)"
   ]
  },
  {
   "cell_type": "code",
   "execution_count": 28,
   "metadata": {},
   "outputs": [],
   "source": [
    "%mkdir results"
   ]
  },
  {
   "cell_type": "code",
   "execution_count": 30,
   "metadata": {},
   "outputs": [
    {
     "data": {
      "image/png": "[encoded data removed]",
      "text/plain": [
       "<matplotlib.figure.Figure at 0x7fbcee2385f8>"
      ]
     },
     "metadata": {
      "needs_background": "light"
     },
     "output_type": "display_data"
    }
   ],
   "source": [
    "%matplotlib inline\n",
    "\n",
    "plt.figure(figsize = (15,8))\n",
    "plt.plot(metricsdf['recall'], 'orange', lw=3, alpha=.6)\n",
    "plt.xlabel('Iterations', fontsize=15)\n",
    "plt.ylabel('Recall', fontsize=15)\n",
    "plt.title('CV model recall', fontsize=18)\n",
    "plt.grid(color='gray', linestyle='-', linewidth=0.8)\n",
    "plt.savefig('results/recall.png') # Saving image\n",
    "automl_image_run.log_image(name='results/recall.png', plot=plt) # Logging the graph into the Azure ML experiment\n",
    "\n",
    "plt.show()"
   ]
  },
  {
   "cell_type": "code",
   "execution_count": 31,
   "metadata": {},
   "outputs": [
    {
     "data": {
      "image/png": "[encoded data removed]",
      "text/plain": [
       "<matplotlib.figure.Figure at 0x7fbd0b25f6a0>"
      ]
     },
     "metadata": {
      "needs_background": "light"
     },
     "output_type": "display_data"
    }
   ],
   "source": [
    "%matplotlib inline\n",
    "\n",
    "plt.figure(figsize = (15,8))\n",
    "plt.plot(metricsdf['mean_average_precision'], 'blue', lw=3, alpha=.6)\n",
    "plt.xlabel('Iterations', fontsize=15)\n",
    "plt.ylabel('Mean_average_precision', fontsize=15)\n",
    "plt.title('CV model mean_average_precision', fontsize=18)\n",
    "plt.grid(color='gray', linestyle='-', linewidth=0.8)\n",
    "plt.savefig('results/mean_average_precision.png') # Saving image\n",
    "automl_image_run.log_image(name='results/mean_average_precision.png', plot=plt) # Logging the graph\n",
    "\n",
    "plt.show()"
   ]
  },
  {
   "cell_type": "code",
   "execution_count": 32,
   "metadata": {},
   "outputs": [
    {
     "data": {
      "image/png": "[encoded data removed]",
      "text/plain": [
       "<matplotlib.figure.Figure at 0x7fbcee30b550>"
      ]
     },
     "metadata": {
      "needs_background": "light"
     },
     "output_type": "display_data"
    }
   ],
   "source": [
    "%matplotlib inline\n",
    "\n",
    "plt.figure(figsize = (15,8))\n",
    "plt.plot(metricsdf['precision'], 'green', lw=3, alpha=.6)\n",
    "plt.xlabel('Iterations', fontsize=15)\n",
    "plt.ylabel('Precision', fontsize=15)\n",
    "plt.title('CV model precision', fontsize=18)\n",
    "plt.grid(color='gray', linestyle='-', linewidth=0.5)\n",
    "plt.savefig('results/precision.png') # Saving image\n",
    "automl_image_run.log_image(name='results/precision.png', plot=plt) # Logging the graph into the Azure ML experiment\n",
    "\n",
    "plt.show()"
   ]
  },
  {
   "cell_type": "code",
   "execution_count": 33,
   "metadata": {},
   "outputs": [
    {
     "data": {
      "text/html": [
       "<table style=\"width:100%\"><tr><th>Name</th><th>Workspace</th><th>Report Page</th><th>Docs Page</th></tr><tr><td>AutoML-InstanceSegmentation-GlassDefect</td><td>azuremlvision</td><td><a href=\"https://ml.azure.com/experiments/id/db7e52ec-aacd-4eb3-a5e1-07a02b1f1e8e?wsid=/subscriptions/70b8f39e-8863-49f7-b6ba-34a80799550c/resourcegroups/azuremlvision-rg/workspaces/azuremlvision&amp;tid=72f988bf-86f1-41af-91ab-2d7cd011db47\" target=\"_blank\" rel=\"noopener\">Link to Azure Machine Learning studio</a></td><td><a href=\"https://docs.microsoft.com/en-us/python/api/azureml-core/azureml.core.experiment.Experiment?view=azure-ml-py\" target=\"_blank\" rel=\"noopener\">Link to Documentation</a></td></tr></table>"
      ],
      "text/plain": [
       "Experiment(Name: AutoML-InstanceSegmentation-GlassDefect,\n",
       "Workspace: azuremlvision)"
      ]
     },
     "execution_count": 33,
     "metadata": {},
     "output_type": "execute_result"
    }
   ],
   "source": [
    "experiment"
   ]
  },
  {
   "cell_type": "markdown",
   "metadata": {},
   "source": [
    "### Download artifacts (optional)"
   ]
  },
  {
   "cell_type": "code",
   "execution_count": 34,
   "metadata": {},
   "outputs": [],
   "source": [
    "%mkdir model"
   ]
  },
  {
   "cell_type": "code",
   "execution_count": 39,
   "metadata": {},
   "outputs": [
    {
     "name": "stdout",
     "output_type": "stream",
     "text": [
      "-rwxrwxrwx 1 root root 600M Jan  4 10:02 model/model.pt\r\n"
     ]
    }
   ],
   "source": [
    "# PyTorch model\n",
    "best_child_run.download_file(\"outputs/model.pt\", output_file_path=\"model/model.pt\")\n",
    "!ls model/model.pt -lh"
   ]
  },
  {
   "cell_type": "code",
   "execution_count": 36,
   "metadata": {},
   "outputs": [
    {
     "name": "stdout",
     "output_type": "stream",
     "text": [
      "-rwxrwxrwx 1 root root 20 Jan  4 10:02 model/labels.json\r\n"
     ]
    }
   ],
   "source": [
    "# Computer Vision Labels\n",
    "best_child_run.download_file(\"train_artifacts/labels.json\", output_file_path=\"model/labels.json\")\n",
    "!ls model/labels.json -lh"
   ]
  },
  {
   "cell_type": "code",
   "execution_count": 37,
   "metadata": {},
   "outputs": [
    {
     "name": "stdout",
     "output_type": "stream",
     "text": [
      "[\"--bg--\", \"defect\"]\n"
     ]
    }
   ],
   "source": [
    "with open(os.path.join('model/labels.json'), 'r') as f:\n",
    "    print(f.read())"
   ]
  },
  {
   "cell_type": "code",
   "execution_count": 38,
   "metadata": {},
   "outputs": [
    {
     "name": "stdout",
     "output_type": "stream",
     "text": [
      "-rwxrwxrwx 1 root root 301M Jan  4 10:02 model/model.onnx\r\n"
     ]
    }
   ],
   "source": [
    "# ONNX model (for local inference)\n",
    "best_child_run.download_file(\"train_artifacts/model.onnx\", output_file_path=\"model/model.onnx\")\n",
    "!ls model/model.onnx -lh"
   ]
  },
  {
   "cell_type": "code",
   "execution_count": 40,
   "metadata": {},
   "outputs": [
    {
     "name": "stdout",
     "output_type": "stream",
     "text": [
      "-rwxrwxrwx 1 root root 349 Jan  4 10:02 model/per_label_metrics.json\r\n"
     ]
    }
   ],
   "source": [
    "# Model metrics\n",
    "best_child_run.download_file(\"train_artifacts/per_label_metrics.json\", output_file_path=\"model/per_label_metrics.json\")\n",
    "!ls model/per_label_metrics.json -lh"
   ]
  },
  {
   "cell_type": "code",
   "execution_count": 41,
   "metadata": {},
   "outputs": [
    {
     "name": "stdout",
     "output_type": "stream",
     "text": [
      "{\"defect\": {\"precision\": [0.02564, 0.06918, 0.18966, 0.41667, 0.38462, 0.47619, 0.38462, 0.55556, 0.625, 0.76923, 0.58824], \"recall\": [0.09091, 1.0, 1.0, 0.90909, 0.90909, 0.90909, 0.90909, 0.90909, 0.90909, 0.90909, 0.90909], \"average_precision\": [0.01136, 0.70576, 0.72281, 0.89256, 0.90083, 0.84848, 0.87879, 0.90083, 0.89394, 0.86869, 0.84848]}}\n"
     ]
    }
   ],
   "source": [
    "with open(os.path.join('model/per_label_metrics.json'), 'r') as f:\n",
    "    print(f.read())"
   ]
  },
  {
   "cell_type": "code",
   "execution_count": 42,
   "metadata": {},
   "outputs": [
    {
     "name": "stdout",
     "output_type": "stream",
     "text": [
      "-rwxrwxrwx 1 root root 32K Jan  4 10:02 model/train_df.csv\r\n"
     ]
    }
   ],
   "source": [
    "# Training datasets\n",
    "best_child_run.download_file(\"train_artifacts/train_df.csv\", output_file_path=\"model/train_df.csv\")\n",
    "!ls model/train_df.csv -lh"
   ]
  },
  {
   "cell_type": "code",
   "execution_count": 43,
   "metadata": {},
   "outputs": [
    {
     "name": "stdout",
     "output_type": "stream",
     "text": [
      "-rwxrwxrwx 1 root root 8.1K Jan  4 10:02 model/val_df.csv\r\n"
     ]
    }
   ],
   "source": [
    "# Validation datasets\n",
    "best_child_run.download_file(\"train_artifacts/val_df.csv\", output_file_path=\"model/val_df.csv\")\n",
    "!ls model/val_df.csv -lh"
   ]
  },
  {
   "cell_type": "markdown",
   "metadata": {},
   "source": [
    "## 9. Deploy model as a web service\n",
    "Once you have your trained model, you can deploy the model on Azure. You can deploy your trained model as a web service on Azure Container Instances ([ACI](https://docs.microsoft.com/en-us/azure/machine-learning/how-to-deploy-azure-container-instance)) or Azure Kubernetes Service ([AKS](https://docs.microsoft.com/en-us/azure/machine-learning/how-to-deploy-azure-kubernetes-service)). Please note that ACI only supports small models under 1 GB in size. For testing larger models or for the high-scale production stage, we recommend using AKS.\n",
    "In this tutorial, we will deploy the model as a web service in AKS."
   ]
  },
  {
   "cell_type": "markdown",
   "metadata": {},
   "source": [
    "### 9.1 You will need to first create an AKS compute cluster or use an existing AKS cluster.\n",
    "\n",
    "You can use either GPU or CPU VM SKUs for your deployment cluster"
   ]
  },
  {
   "cell_type": "code",
   "execution_count": 44,
   "metadata": {},
   "outputs": [
    {
     "name": "stdout",
     "output_type": "stream",
     "text": [
      "2022-01-04 10:02:38.912924 Creating or using AKS...\n",
      "\n",
      "Found existing AKS\n",
      "\n",
      "2022-01-04 10:02:39.023577 Time: 0:00:00.110653\n"
     ]
    }
   ],
   "source": [
    "from azureml.core.compute import ComputeTarget, AksCompute\n",
    "from azureml.exceptions import ComputeTargetException\n",
    "\n",
    "aks_name = \"cluster-aks-d3v2\"\n",
    "\n",
    "t1 = datetime.datetime.now()\n",
    "print(t1, \"Creating or using AKS...\\n\")\n",
    "\n",
    "try:\n",
    "    aks_target = ComputeTarget(workspace=ws, name=aks_name)\n",
    "    print(\"Found existing AKS\")\n",
    "\n",
    "except ComputeTargetException:\n",
    "    print(\"Creating a new compute target...\")\n",
    "    prov_config = AksCompute.provisioning_configuration(vm_size=\"STANDARD_D3_V2\")\n",
    "    aks_target = ComputeTarget.create(\n",
    "        workspace=ws, name=aks_name, provisioning_configuration=prov_config\n",
    "    )\n",
    "    aks_target.wait_for_completion(show_output=True)\n",
    "\n",
    "t2 = datetime.datetime.now()\n",
    "print()\n",
    "print(t2, \"Time:\", t2 - t1)"
   ]
  },
  {
   "cell_type": "markdown",
   "metadata": {},
   "source": [
    "Next, you will need to define the [inference configuration](https://docs.microsoft.com/en-us/azure/machine-learning/how-to-auto-train-image-models#update-inference-configuration), that describes how to set up the web-service containing your model. You can use the scoring script and the environment from the training run in your inference config.\n",
    "\n",
    "<b>Note:</b> To change the model's settings, open the downloaded scoring script and modify the model_settings variable <i>before</i> deploying the model."
   ]
  },
  {
   "cell_type": "code",
   "execution_count": 45,
   "metadata": {},
   "outputs": [],
   "source": [
    "from azureml.core.model import InferenceConfig\n",
    "\n",
    "best_child_run.download_file(\"outputs/scoring_file_v_1_0_0.py\", output_file_path=\"model/score.py\")\n",
    "\n",
    "environment = best_child_run.get_environment()\n",
    "inference_config = InferenceConfig(entry_script=\"model/score.py\", environment=environment)"
   ]
  },
  {
   "cell_type": "code",
   "execution_count": 46,
   "metadata": {},
   "outputs": [
    {
     "name": "stdout",
     "output_type": "stream",
     "text": [
      "-rwxrwxrwx 1 root root 2.0K Jan  4 10:02 model/score.py\r\n"
     ]
    }
   ],
   "source": [
    "!ls model/score.py -lh"
   ]
  },
  {
   "cell_type": "code",
   "execution_count": 47,
   "metadata": {},
   "outputs": [
    {
     "name": "stdout",
     "output_type": "stream",
     "text": [
      "# ---------------------------------------------------------\n",
      "# Copyright (c) Microsoft Corporation. All rights reserved.\n",
      "# ---------------------------------------------------------\n",
      "import os\n",
      "import tempfile\n",
      "import logging\n",
      "\n",
      "from azureml.contrib.services.aml_request import rawhttp\n",
      "from azureml.automl.core.shared import logging_utilities\n",
      "from azureml.contrib.services.aml_response import AMLResponse\n",
      "from azureml.core.model import Model\n",
      "\n",
      "from azureml.automl.dnn.vision.common.utils import _set_logging_parameters\n",
      "from azureml.automl.dnn.vision.common.model_export_utils import load_model, run_inference\n",
      "from azureml.automl.dnn.vision.common.logging_utils import get_logger\n",
      "\n",
      "from azureml.automl.dnn.vision.object_detection.writers.score import _score_with_model\n",
      "\n",
      "TASK_TYPE = 'image-instance-segmentation'\n",
      "logger = get_logger('azureml.automl.core.scoring_script_images')\n",
      "\n",
      "\n",
      "def init():\n",
      "    global model\n",
      "\n",
      "    # Set up logging\n",
      "    _set_logging_parameters(TASK_TYPE, {})\n",
      "\n",
      "    model_path = Model.get_model_path(model_name='AutoML694ff7ff20')\n",
      "\n",
      "    try:\n",
      "        logger.info(\"Loading model from path: {}.\".format(model_path))\n",
      "        model_settings = {\"min_size\": 600, \"max_size\": 1333, \"box_score_thresh\": 0.3, \"box_nms_thresh\": 0.5, \"box_detections_per_img\": 100}\n",
      "        model = load_model(TASK_TYPE, model_path, **model_settings)\n",
      "        logger.info(\"Loading successful.\")\n",
      "    except Exception as e:\n",
      "        logging_utilities.log_traceback(e, logger)\n",
      "        raise\n",
      "\n",
      "\n",
      "@rawhttp\n",
      "def run(request):\n",
      "    logger.info(\"Request: [{0}]\".format(request))\n",
      "    if request.method == 'GET':\n",
      "        response_body = str.encode(request.full_path)\n",
      "        return AMLResponse(response_body, 200)\n",
      "    elif request.method == 'POST':\n",
      "        request_body = request.get_data()\n",
      "        logger.info(\"Running inference.\")\n",
      "        result = run_inference(model, request_body, _score_with_model)\n",
      "        logger.info(\"Finished inferencing.\")\n",
      "        return AMLResponse(result, 200)\n",
      "    else:\n",
      "        return AMLResponse(\"bad request\", 500)\n"
     ]
    }
   ],
   "source": [
    "with open(os.path.join('model/score.py'), 'r') as f:\n",
    "    print(f.read())"
   ]
  },
  {
   "cell_type": "markdown",
   "metadata": {},
   "source": [
    "### 9.2 You can then deploy the model as an AKS web service:"
   ]
  },
  {
   "cell_type": "code",
   "execution_count": 48,
   "metadata": {},
   "outputs": [],
   "source": [
    "aks_modelname = \"automl-instanceseg-glass\"\n",
    "aks_description = \"Instance Segmentation computer vision model to detect Glass Defects\""
   ]
  },
  {
   "cell_type": "code",
   "execution_count": 49,
   "metadata": {},
   "outputs": [
    {
     "name": "stdout",
     "output_type": "stream",
     "text": [
      "2022-01-04 10:02:51.646623 Deploying the model into AKS...\n",
      "\n",
      "Tips: You can try get_logs(): https://aka.ms/debugimage#dockerlog or local deployment: https://aka.ms/debugimage#debug-locally to debug if deployment takes longer than 10 minutes.\n",
      "Running\n",
      "2022-01-04 10:02:57+00:00 Creating Container Registry if not exists.\n",
      "2022-01-04 10:02:57+00:00 Registering the environment.\n",
      "2022-01-04 10:02:58+00:00 Use the existing image.\n",
      "2022-01-04 10:02:59+00:00 Creating resources in AKS.\n",
      "2022-01-04 10:03:00+00:00 Submitting deployment to compute.\n",
      "2022-01-04 10:03:01+00:00 Checking the status of deployment automl-instanceseg-glass..\n",
      "2022-01-04 10:03:24+00:00 Checking the status of inference endpoint automl-instanceseg-glass.\n",
      "Succeeded\n",
      "AKS service creation operation finished, operation \"Succeeded\"\n",
      "\n",
      "2022-01-04 10:03:29.550275 Time to deploy the model into Azure Kubernetes Service: 0:00:37.903652\n"
     ]
    }
   ],
   "source": [
    "# Deploy the model from the best run as an AKS web service\n",
    "from azureml.core.webservice import AksWebservice\n",
    "from azureml.core.model import Model\n",
    "\n",
    "t1 = datetime.datetime.now()\n",
    "print(t1, \"Deploying the model into AKS...\\n\")\n",
    "\n",
    "# Deploy the model from the best run as an AKS web service\n",
    "aks_config = AksWebservice.deploy_configuration(\n",
    "            autoscale_enabled=True, \n",
    "            cpu_cores=1, \n",
    "            memory_gb=5, \n",
    "            enable_app_insights=True, \n",
    "            description=aks_description )\n",
    "\n",
    "aks_service = Model.deploy(\n",
    "    ws,\n",
    "    models=[model],\n",
    "    inference_config=inference_config,\n",
    "    deployment_config=aks_config,\n",
    "    deployment_target=aks_target,\n",
    "    name=aks_modelname,\n",
    "    overwrite=True,\n",
    ")\n",
    "\n",
    "aks_service.wait_for_deployment(show_output=True)\n",
    "\n",
    "t2 = datetime.datetime.now()\n",
    "print()\n",
    "print(t2, \"Time to deploy the model into Azure Kubernetes Service:\", t2 - t1)"
   ]
  },
  {
   "cell_type": "code",
   "execution_count": 50,
   "metadata": {},
   "outputs": [
    {
     "name": "stdout",
     "output_type": "stream",
     "text": [
      "AKS service status: Healthy\n"
     ]
    }
   ],
   "source": [
    "print(\"AKS service status:\", aks_service.state)"
   ]
  },
  {
   "cell_type": "markdown",
   "metadata": {},
   "source": [
    "### Additional informations"
   ]
  },
  {
   "cell_type": "code",
   "execution_count": 51,
   "metadata": {},
   "outputs": [],
   "source": [
    "#print(\"Computer Vision model endpoint:\", aks_service.scoring_uri)\n",
    "#print(\"Computer Vision model endpoint properties:\", aks_service.properties)\n",
    "#print(\"AKS Logs:\", aks_service.get_logs())"
   ]
  },
  {
   "cell_type": "markdown",
   "metadata": {},
   "source": [
    "## 10. Use this notebook to call the CV deployed model:"
   ]
  },
  {
   "cell_type": "markdown",
   "metadata": {},
   "source": [
    "Calling Glass Defect CV model.ipynb"
   ]
  },
  {
   "cell_type": "markdown",
   "metadata": {},
   "source": [
    "## 11. Additional tasks"
   ]
  },
  {
   "cell_type": "code",
   "execution_count": 52,
   "metadata": {},
   "outputs": [],
   "source": [
    "#Let's delete our Azure ML GPU compute cluster\n",
    "compute_target.delete()"
   ]
  },
  {
   "cell_type": "code",
   "execution_count": null,
   "metadata": {},
   "outputs": [],
   "source": [
    "#You can also delete the service (don't do it now!)\n",
    "#aks_service.delete()"
   ]
  },
  {
   "cell_type": "markdown",
   "metadata": {},
   "source": [
    "> End"
   ]
  }
 ],
 "metadata": {
  "kernelspec": {
   "display_name": "Python (azure_automl)",
   "language": "python",
   "name": "azure_automl"
  },
  "language_info": {
   "codemirror_mode": {
    "name": "ipython",
    "version": 3
   },
   "file_extension": ".py",
   "mimetype": "text/x-python",
   "name": "python",
   "nbconvert_exporter": "python",
   "pygments_lexer": "ipython3",
   "version": "3.6.6"
  },
  "nteract": {
   "version": "nteract-front-end@1.0.0"
  }
 },
 "nbformat": 4,
 "nbformat_minor": 2
}
